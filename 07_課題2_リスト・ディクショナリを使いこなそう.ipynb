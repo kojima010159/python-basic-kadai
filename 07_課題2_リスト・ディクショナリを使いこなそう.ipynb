{
  "nbformat": 4,
  "nbformat_minor": 0,
  "metadata": {
    "colab": {
      "provenance": []
    },
    "kernelspec": {
      "name": "python3",
      "display_name": "Python 3"
    },
    "language_info": {
      "name": "python"
    }
  },
  "cells": [
    {
      "cell_type": "code",
      "execution_count": null,
      "metadata": {
        "colab": {
          "base_uri": "https://localhost:8080/"
        },
        "id": "TeWNZkfdIJIZ",
        "outputId": "551e6f96-3217-419e-f147-bc398d851c91"
      },
      "outputs": [
        {
          "output_type": "stream",
          "name": "stdout",
          "text": [
            "リストから取り出した水曜日の天気予報: 水曜日は晴れです\n",
            "ディクショナリから取り出した水曜日の天気予報: 晴れ\n"
          ]
        }
      ],
      "source": [
        "# リストの作成\n",
        "array = [\n",
        "    \"月曜日は晴れです\",\n",
        "    \"火曜日は雨です\",\n",
        "    \"水曜日は晴れです\",\n",
        "    \"木曜日は晴れです\",\n",
        "    \"金曜日は曇りです\",\n",
        "    \"土曜日は曇りのち雨です\",\n",
        "    \"日曜日は雷雨です\"\n",
        "]\n",
        "\n",
        "# ディクショナリの作成\n",
        "dictionary = {\n",
        "    \"mon\": \"晴れ\",\n",
        "    \"tue\": \"雨\",\n",
        "    \"wed\": \"晴れ\",\n",
        "    \"thu\": \"晴れ\",\n",
        "    \"fri\": \"曇り\",\n",
        "    \"sat\": \"曇りのち雨\",\n",
        "    \"sun\": \"雷雨\"\n",
        "}\n",
        "\n",
        "# リストから水曜日の天気予報を取り出す\n",
        "wednesday_weather_list = array[2]\n",
        "\n",
        "# ディクショナリから水曜日の天気予報を取り出す\n",
        "wednesday_weather_dict = dictionary[\"wed\"]\n",
        "\n",
        "# 結果の出力\n",
        "print(\"リストから取り出した水曜日の天気予報:\", wednesday_weather_list)\n",
        "print(\"ディクショナリから取り出した水曜日の天気予報:\", wednesday_weather_dict)\n"
      ]
    }
  ]
}