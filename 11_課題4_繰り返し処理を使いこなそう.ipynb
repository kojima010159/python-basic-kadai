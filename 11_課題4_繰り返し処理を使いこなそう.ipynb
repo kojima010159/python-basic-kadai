{
  "nbformat": 4,
  "nbformat_minor": 0,
  "metadata": {
    "colab": {
      "provenance": []
    },
    "kernelspec": {
      "name": "python3",
      "display_name": "Python 3"
    },
    "language_info": {
      "name": "python"
    }
  },
  "cells": [
    {
      "cell_type": "code",
      "execution_count": 3,
      "metadata": {
        "colab": {
          "base_uri": "https://localhost:8080/"
        },
        "id": "6qUhLi10UY07",
        "outputId": "6a579d0b-50fb-466b-fafc-0ed346a7bd1e"
      },
      "outputs": [
        {
          "output_type": "stream",
          "name": "stdout",
          "text": [
            "for文での出力:\n",
            "水\n",
            "金\n",
            "地\n",
            "火\n",
            "木\n",
            "土\n",
            "天\n",
            "海\n",
            "冥\n",
            "\n",
            "while文での出力:\n",
            "水\n",
            "金\n",
            "地\n",
            "火\n",
            "木\n",
            "土\n",
            "天\n",
            "海\n",
            "冥\n"
          ]
        }
      ],
      "source": [
        "# 繰り返し処理を使ったリストの出力\n",
        "# 課題のリスト\n",
        "array = [\"水\", \"金\", \"地\", \"火\", \"木\", \"土\", \"天\", \"海\", \"冥\"]\n",
        "\n",
        "# for文を使った例\n",
        "print(\"for文での出力:\")  # for文の処理開始を示す\n",
        "for element in array:\n",
        "    print(element)  # リストの各要素を順に出力\n",
        "\n",
        "# while文を使った例\n",
        "print(\"\\nwhile文での出力:\")  # while文の処理開始を示す\n",
        "index = 0  # リストの先頭のインデックスを初期化\n",
        "while index < len(array):\n",
        "    print(array[index])  # 現在のインデックスにある要素を出力\n",
        "    index += 1  # インデックスを1増やして次の要素に進む"
      ]
    }
  ]
}