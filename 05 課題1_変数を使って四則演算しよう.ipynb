{
  "nbformat": 4,
  "nbformat_minor": 0,
  "metadata": {
    "colab": {
      "provenance": []
    },
    "kernelspec": {
      "name": "python3",
      "display_name": "Python 3"
    },
    "language_info": {
      "name": "python"
    }
  },
  "cells": [
    {
      "cell_type": "code",
      "execution_count": null,
      "metadata": {
        "colab": {
          "base_uri": "https://localhost:8080/"
        },
        "id": "BDFaLr6ULH8A",
        "outputId": "af7073ee-8768-48f3-921a-84f79d657f8d"
      },
      "outputs": [
        {
          "output_type": "stream",
          "name": "stdout",
          "text": [
            "75.0cm²\n"
          ]
        }
      ],
      "source": [
        "# 上辺、下辺、高さの値を変数に代入\n",
        "upper_base = 10  # 上辺 (cm)\n",
        "lower_base = 20  # 下辺 (cm)\n",
        "height = 5       # 高さ (cm)\n",
        "\n",
        "# 台形の面積を計算\n",
        "area = (upper_base + lower_base) * height / 2\n",
        "\n",
        "# 結果を文字列として出力\n",
        "print(f\"{area}cm²\")"
      ]
    }
  ]
}