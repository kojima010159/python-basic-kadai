{
  "nbformat": 4,
  "nbformat_minor": 0,
  "metadata": {
    "colab": {
      "provenance": []
    },
    "kernelspec": {
      "name": "python3",
      "display_name": "Python 3"
    },
    "language_info": {
      "name": "python"
    }
  },
  "cells": [
    {
      "cell_type": "code",
      "execution_count": null,
      "metadata": {
        "colab": {
          "base_uri": "https://localhost:8080/"
        },
        "id": "1XpTgHCRIgVu",
        "outputId": "def98c38-ce85-467c-bc2f-4fbae376fdd4"
      },
      "outputs": [
        {
          "output_type": "stream",
          "name": "stdout",
          "text": [
            "14\n"
          ]
        }
      ],
      "source": [
        "# 変数varの定義（例として任意の値を指定）\n",
        "var = 14  # 試しに3と5の両方の倍数を設定\n",
        "\n",
        "# 条件分岐の処理\n",
        "if var % 3 == 0 and var % 5 == 0:\n",
        "    print(\"FizzBuzz\")  # 3の倍数かつ5の倍数\n",
        "elif var % 3 == 0:\n",
        "    print(\"Fizz\")  # 3の倍数\n",
        "elif var % 5 == 0:\n",
        "    print(\"Buzz\")  # 5の倍数\n",
        "else:\n",
        "    print(var)  # どれにも該当しない場合はその値を出力\n"
      ]
    },
    {
      "cell_type": "markdown",
      "source": [
        "上は書きにくい読みにくい。人によっては書かないでくれと言われる。\n",
        "順番も考えなければいけないし、修正する際に全ての文面を理解する必要がある"
      ],
      "metadata": {
        "id": "TMu0WSZvQh2N"
      }
    },
    {
      "cell_type": "code",
      "source": [
        "# VQPの値は正の整数であれば何でも良いです\n",
        "var « 10\n",
        "if var % 3— 0and var % 5» 0:\n",
        "print CfFizzBuzzM)\n",
        "elif var % 3— 0:\n",
        "print(”Fizz”)\n",
        "elif var % 5— 0:\n",
        "print C'BuzzM)\n",
        "else:\n",
        "print(var)\n",
        "if var % 3\"\" 0and var X 5!■ 0:\n",
        "卜rintぐFizz”)\n",
        "if var % 3!« 0and var % 5— 0:\n",
        "printC'Buzz\"\")\n",
        "if var % 3= 0and var % 5～ 0:\n",
        "print ClFizzBuzzw)\n",
        "\n",
        "if var % 3!= 0and var X 5!= 0:\n",
        "print(”var”) I"
      ],
      "metadata": {
        "colab": {
          "base_uri": "https://localhost:8080/",
          "height": 106
        },
        "id": "kL82VRIfQcUj",
        "outputId": "706d7ae5-e769-4864-c984-2959a056bb1d"
      },
      "execution_count": null,
      "outputs": [
        {
          "output_type": "error",
          "ename": "SyntaxError",
          "evalue": "invalid character '«' (U+00AB) (<ipython-input-13-c966d4f0d671>, line 2)",
          "traceback": [
            "\u001b[0;36m  File \u001b[0;32m\"<ipython-input-13-c966d4f0d671>\"\u001b[0;36m, line \u001b[0;32m2\u001b[0m\n\u001b[0;31m    var « 10\u001b[0m\n\u001b[0m        ^\u001b[0m\n\u001b[0;31mSyntaxError\u001b[0m\u001b[0;31m:\u001b[0m invalid character '«' (U+00AB)\n"
          ]
        }
      ]
    },
    {
      "cell_type": "code",
      "source": [
        "# varの値は正の整数であれば何でも良いです\n",
        "var = 15\n",
        "\n",
        "if var % 3 == 0 and var % 5 == 0:\n",
        "  print(\"FizzBuzz\")\n",
        "elif var % 3 == 0:\n",
        "  print(\"Fizz\")\n",
        "elif var % 5 == 0:\n",
        "  print(\"Buzz\")\n",
        "else:\n",
        "  print(var)\n",
        "\n",
        "if var % 3 == 0 and var % 5 != 0:\n",
        "  print(\"Fizz\")\n",
        "\n",
        "if var % 3 != 0 and var % 5 == 0:\n",
        "  print(\"Buzz\")\n",
        "\n",
        "if var % 3 == 0 and var % 5 == 0:\n",
        "  print(\"FizzBuzz\")\n",
        "\n",
        "if var % 3 != 0 and var % 5 != 0:\n",
        "  print(\"var\")"
      ],
      "metadata": {
        "colab": {
          "base_uri": "https://localhost:8080/"
        },
        "id": "RT_ObLwzRmbE",
        "outputId": "c97e1171-bb36-4bc0-a21a-6570aadcfa05"
      },
      "execution_count": null,
      "outputs": [
        {
          "output_type": "stream",
          "name": "stdout",
          "text": [
            "FizzBuzz\n",
            "FizzBuzz\n"
          ]
        }
      ]
    },
    {
      "cell_type": "code",
      "source": [],
      "metadata": {
        "id": "ZNNM65vORbxc"
      },
      "execution_count": null,
      "outputs": []
    },
    {
      "cell_type": "markdown",
      "source": [
        "参考演算子"
      ],
      "metadata": {
        "id": "rvRWWIOwRav9"
      }
    },
    {
      "cell_type": "code",
      "source": [
        "print(\"Fizz\") if var % 3 == 0 and var % 5 != 0 else None"
      ],
      "metadata": {
        "id": "9s850TgrRyom"
      },
      "execution_count": null,
      "outputs": []
    },
    {
      "cell_type": "markdown",
      "source": [
        "andを使わずにifだけにすることもできる。\n",
        "2重ネスト"
      ],
      "metadata": {
        "id": "03tlpg87StQk"
      }
    },
    {
      "cell_type": "code",
      "source": [
        "if var % 3 == 0:\n",
        "  if var % 5 != 0:\n",
        "    print(\"Fizz\")"
      ],
      "metadata": {
        "id": "cyS9o_IeSk7z"
      },
      "execution_count": null,
      "outputs": []
    }
  ]
}